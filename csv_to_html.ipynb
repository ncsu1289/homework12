{
 "cells": [
  {
   "cell_type": "markdown",
   "metadata": {},
   "source": [
    "Conversion of csv to html"
   ]
  },
  {
   "cell_type": "code",
   "execution_count": 1,
   "metadata": {
    "collapsed": true
   },
   "outputs": [],
   "source": [
    "import pandas as pd"
   ]
  },
  {
   "cell_type": "code",
   "execution_count": 2,
   "metadata": {
    "collapsed": true
   },
   "outputs": [],
   "source": [
    "data_csv=pd.read_csv(\"City_Summary.csv\")"
   ]
  },
  {
   "cell_type": "code",
   "execution_count": 3,
   "metadata": {},
   "outputs": [
    {
     "data": {
      "text/html": [
       "<div>\n",
       "<style>\n",
       "    .dataframe thead tr:only-child th {\n",
       "        text-align: right;\n",
       "    }\n",
       "\n",
       "    .dataframe thead th {\n",
       "        text-align: left;\n",
       "    }\n",
       "\n",
       "    .dataframe tbody tr th {\n",
       "        vertical-align: top;\n",
       "    }\n",
       "</style>\n",
       "<table border=\"1\" class=\"dataframe\">\n",
       "  <thead>\n",
       "    <tr style=\"text-align: right;\">\n",
       "      <th></th>\n",
       "      <th>City</th>\n",
       "      <th>Cloudiness</th>\n",
       "      <th>Country</th>\n",
       "      <th>Date / Time</th>\n",
       "      <th>Humidity</th>\n",
       "      <th>Lat</th>\n",
       "      <th>Lon</th>\n",
       "      <th>Max Temp</th>\n",
       "      <th>Wind Speed</th>\n",
       "    </tr>\n",
       "  </thead>\n",
       "  <tbody>\n",
       "    <tr>\n",
       "      <th>0</th>\n",
       "      <td>Nabari</td>\n",
       "      <td>75</td>\n",
       "      <td>JP</td>\n",
       "      <td>2017-10-29 17:16:00 PM</td>\n",
       "      <td>58</td>\n",
       "      <td>34.62</td>\n",
       "      <td>136.08</td>\n",
       "      <td>55.40</td>\n",
       "      <td>21.92</td>\n",
       "    </tr>\n",
       "    <tr>\n",
       "      <th>1</th>\n",
       "      <td>Volya</td>\n",
       "      <td>0</td>\n",
       "      <td>RU</td>\n",
       "      <td>2017-10-29 17:30:00 PM</td>\n",
       "      <td>81</td>\n",
       "      <td>51.77</td>\n",
       "      <td>39.54</td>\n",
       "      <td>42.80</td>\n",
       "      <td>8.95</td>\n",
       "    </tr>\n",
       "    <tr>\n",
       "      <th>2</th>\n",
       "      <td>Eregli</td>\n",
       "      <td>20</td>\n",
       "      <td>TR</td>\n",
       "      <td>2017-10-29 18:22:06 PM</td>\n",
       "      <td>97</td>\n",
       "      <td>37.51</td>\n",
       "      <td>34.05</td>\n",
       "      <td>46.11</td>\n",
       "      <td>1.83</td>\n",
       "    </tr>\n",
       "    <tr>\n",
       "      <th>3</th>\n",
       "      <td>Carlogani</td>\n",
       "      <td>0</td>\n",
       "      <td>RO</td>\n",
       "      <td>2017-10-29 18:00:00 PM</td>\n",
       "      <td>66</td>\n",
       "      <td>44.52</td>\n",
       "      <td>24.15</td>\n",
       "      <td>48.20</td>\n",
       "      <td>18.34</td>\n",
       "    </tr>\n",
       "    <tr>\n",
       "      <th>4</th>\n",
       "      <td>Rome</td>\n",
       "      <td>20</td>\n",
       "      <td>US</td>\n",
       "      <td>2017-10-29 17:55:00 PM</td>\n",
       "      <td>52</td>\n",
       "      <td>34.26</td>\n",
       "      <td>-85.16</td>\n",
       "      <td>46.40</td>\n",
       "      <td>8.05</td>\n",
       "    </tr>\n",
       "  </tbody>\n",
       "</table>\n",
       "</div>"
      ],
      "text/plain": [
       "        City  Cloudiness Country             Date / Time  Humidity    Lat  \\\n",
       "0     Nabari          75      JP  2017-10-29 17:16:00 PM        58  34.62   \n",
       "1      Volya           0      RU  2017-10-29 17:30:00 PM        81  51.77   \n",
       "2     Eregli          20      TR  2017-10-29 18:22:06 PM        97  37.51   \n",
       "3  Carlogani           0      RO  2017-10-29 18:00:00 PM        66  44.52   \n",
       "4       Rome          20      US  2017-10-29 17:55:00 PM        52  34.26   \n",
       "\n",
       "      Lon  Max Temp  Wind Speed  \n",
       "0  136.08     55.40       21.92  \n",
       "1   39.54     42.80        8.95  \n",
       "2   34.05     46.11        1.83  \n",
       "3   24.15     48.20       18.34  \n",
       "4  -85.16     46.40        8.05  "
      ]
     },
     "execution_count": 3,
     "metadata": {},
     "output_type": "execute_result"
    }
   ],
   "source": [
    "data_csv.head()"
   ]
  },
  {
   "cell_type": "code",
   "execution_count": 4,
   "metadata": {
    "collapsed": true
   },
   "outputs": [],
   "source": [
    "data_csv.to_html(\"city_data.html\")"
   ]
  },
  {
   "cell_type": "code",
   "execution_count": null,
   "metadata": {
    "collapsed": true
   },
   "outputs": [],
   "source": []
  }
 ],
 "metadata": {
  "kernelspec": {
   "display_name": "Python [conda root]",
   "language": "python",
   "name": "conda-root-py"
  },
  "language_info": {
   "codemirror_mode": {
    "name": "ipython",
    "version": 3
   },
   "file_extension": ".py",
   "mimetype": "text/x-python",
   "name": "python",
   "nbconvert_exporter": "python",
   "pygments_lexer": "ipython3",
   "version": "3.6.3"
  }
 },
 "nbformat": 4,
 "nbformat_minor": 2
}
